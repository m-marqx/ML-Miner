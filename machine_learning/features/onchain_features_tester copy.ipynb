{
 "cells": [
  {
   "cell_type": "code",
   "execution_count": 2,
   "metadata": {},
   "outputs": [],
   "source": [
    "import os\n",
    "\n",
    "os.chdir(r\"C:\\Repositories\\ML-Miner\")"
   ]
  },
  {
   "cell_type": "code",
   "execution_count": 31,
   "metadata": {},
   "outputs": [],
   "source": [
    "from machine_learning.features.onchain_features import OnchainFeatures\n",
    "from machine_learning.ml_miner import OnchainModelMiner\n",
    "import pandas as pd\n",
    "import numpy as np"
   ]
  },
  {
   "cell_type": "code",
   "execution_count": 4,
   "metadata": {},
   "outputs": [],
   "source": [
    "avg_infos = [\"avgfee\", \"avgfeerate\", \"avgtxsize\"]\n",
    "feerate_percentiles = [\"feerate_percentiles\"]\n",
    "max_infos = [\"maxfee\", \"maxfeerate\", \"maxtxsize\"]\n",
    "median_infos = [\"mediantime\", \"medianfee\", \"mediantxsize\"]\n",
    "min_infos = [\"minfee\", \"minfeerate\", \"mintxsize\"]\n",
    "total_infos = [\"total_out\", \"total_size\", \"total_weight\", \"totalfee\"]\n",
    "\n",
    "txs_infos = [\n",
    "    \"ins\",\n",
    "    \"outs\",\n",
    "    \"txs\",\n",
    "    \"utxo_increase\",\n",
    "    \"utxo_size_inc\",\n",
    "    \"utxo_increase_actual\",\n",
    "    \"utxo_size_inc_actual\",\n",
    "]\n",
    "\n",
    "all_valid_infos = [\n",
    "    *avg_infos,\n",
    "    # *feerate_percentiles,\n",
    "    *max_infos,\n",
    "    *median_infos,\n",
    "    *min_infos,\n",
    "    *total_infos,\n",
    "    *txs_infos,\n",
    "]\n",
    "\n",
    "all_infos = [\n",
    "    *avg_infos,\n",
    "    # *feerate_percentiles,\n",
    "    *max_infos,\n",
    "    *median_infos,\n",
    "    *min_infos,\n",
    "    *total_infos,\n",
    "    *txs_infos,\n",
    "]"
   ]
  },
  {
   "cell_type": "code",
   "execution_count": 5,
   "metadata": {},
   "outputs": [],
   "source": [
    "class Test:\n",
    "    ...\n",
    "    \n",
    "self = Test()"
   ]
  },
  {
   "cell_type": "code",
   "execution_count": 6,
   "metadata": {},
   "outputs": [],
   "source": [
    "self.onchain_features = OnchainFeatures(None, 1577, 30, False)"
   ]
  },
  {
   "cell_type": "code",
   "execution_count": 7,
   "metadata": {},
   "outputs": [],
   "source": [
    "self.avg_infos = [\"avgfee\", \"avgfeerate\", \"avgtxsize\"]\n",
    "self.feerate_percentiles = [\"feerate_percentiles\"]\n",
    "self.max_infos = [\"maxfee\", \"maxfeerate\", \"maxtxsize\"]\n",
    "self.median_infos = [\"mediantime\", \"medianfee\", \"mediantxsize\"]\n",
    "self.min_infos = [\"minfee\", \"minfeerate\", \"mintxsize\"]\n",
    "self.total_infos = [\"total_out\", \"total_size\", \"total_weight\", \"totalfee\"]\n",
    "\n",
    "self.txs_infos = [\n",
    "    \"ins\",\n",
    "    \"outs\",\n",
    "    \"txs\",\n",
    "    \"utxo_increase\",\n",
    "    \"utxo_size_inc\",\n",
    "    \"utxo_increase_actual\",\n",
    "    \"utxo_size_inc_actual\",\n",
    "]\n",
    "\n",
    "self.all_valid_infos = [\n",
    "    *avg_infos,\n",
    "    # *feerate_percentiles,\n",
    "    *max_infos,\n",
    "    *median_infos,\n",
    "    # *min_infos,\n",
    "    *total_infos,\n",
    "    *txs_infos,\n",
    "]\n",
    "\n",
    "self.all_infos = [\n",
    "    *avg_infos,\n",
    "    *feerate_percentiles,\n",
    "    *max_infos,\n",
    "    *median_infos,\n",
    "    *min_infos,\n",
    "    *total_infos,\n",
    "    *txs_infos,\n",
    "]"
   ]
  },
  {
   "cell_type": "code",
   "execution_count": 8,
   "metadata": {},
   "outputs": [],
   "source": [
    "datasets = self.onchain_features.create_std_ratio_feature(self.all_valid_infos, \"D\", 2, 4).dataset"
   ]
  },
  {
   "cell_type": "code",
   "execution_count": 29,
   "metadata": {},
   "outputs": [
    {
     "data": {
      "text/plain": [
       "['avgfee_std_ratio_feat',\n",
       " 'avgfeerate_std_ratio_feat',\n",
       " 'avgtxsize_std_ratio_feat',\n",
       " 'maxfee_std_ratio_feat',\n",
       " 'maxfeerate_std_ratio_feat',\n",
       " 'maxtxsize_std_ratio_feat',\n",
       " 'mediantime_std_ratio_feat',\n",
       " 'medianfee_std_ratio_feat',\n",
       " 'mediantxsize_std_ratio_feat',\n",
       " 'total_out_std_ratio_feat',\n",
       " 'total_size_std_ratio_feat',\n",
       " 'total_weight_std_ratio_feat',\n",
       " 'totalfee_std_ratio_feat',\n",
       " 'ins_std_ratio_feat',\n",
       " 'outs_std_ratio_feat',\n",
       " 'txs_std_ratio_feat',\n",
       " 'utxo_increase_std_ratio_feat',\n",
       " 'utxo_size_inc_std_ratio_feat',\n",
       " 'utxo_increase_actual_std_ratio_feat',\n",
       " 'utxo_size_inc_actual_std_ratio_feat']"
      ]
     },
     "execution_count": 29,
     "metadata": {},
     "output_type": "execute_result"
    }
   ],
   "source": [
    "feat_cols = [col for col in datasets.columns if col.endswith(\"_feat\")]\n",
    "feat_cols"
   ]
  },
  {
   "cell_type": "code",
   "execution_count": null,
   "metadata": {},
   "outputs": [],
   "source": [
    "OnchainModelMiner"
   ]
  }
 ],
 "metadata": {
  "kernelspec": {
   "display_name": ".venv",
   "language": "python",
   "name": "python3"
  },
  "language_info": {
   "codemirror_mode": {
    "name": "ipython",
    "version": 3
   },
   "file_extension": ".py",
   "mimetype": "text/x-python",
   "name": "python",
   "nbconvert_exporter": "python",
   "pygments_lexer": "ipython3",
   "version": "3.11.9"
  }
 },
 "nbformat": 4,
 "nbformat_minor": 2
}
