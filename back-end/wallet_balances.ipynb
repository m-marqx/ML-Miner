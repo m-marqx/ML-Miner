{
 "cells": [
  {
   "cell_type": "code",
   "execution_count": 1,
   "metadata": {},
   "outputs": [],
   "source": [
    "from api import *\n",
    "import os"
   ]
  },
  {
   "cell_type": "code",
   "execution_count": 2,
   "metadata": {},
   "outputs": [
    {
     "name": "stderr",
     "output_type": "stream",
     "text": [
      "INFO 19:19:24: Retrieving transactions for wallet: 0xC29729D92b9D6bb5EE2bE9dFad1E6C2A2E5EE39f\n",
      "INFO 19:19:26: Retrieved 1 transactions\n",
      "INFO 19:19:27: Getting token balances for block 71566909.\n",
      "INFO 19:19:32: Getting token balances for block 71606890.\n"
     ]
    }
   ],
   "source": [
    "wallet = os.getenv(\"polygon_wallet\")\n",
    "api_key = os.getenv(\"moralis_api_key\")\n",
    "database_url = os.getenv(\"DATABASE_URL\")\n",
    "update = True\n",
    "indexes_to_drop = 33\n",
    "\n",
    "wallet_balance = get_account_balance(wallet, api_key, update)\n",
    "wallet_df = wallet_data(wallet_balance, \"WBTC\")"
   ]
  },
  {
   "cell_type": "code",
   "execution_count": 3,
   "metadata": {},
   "outputs": [],
   "source": [
    "result = (\n",
    "    wallet_df.reset_index()[\"total_usd\"]\n",
    "    .pct_change()\n",
    "    .drop(index=indexes_to_drop)\n",
    "    + 1\n",
    ").cumprod() - 1\n",
    "\n",
    "btc_result = (\n",
    "    wallet_df.reset_index()[\"usdPrice\"]\n",
    "    .pct_change()\n",
    "    .drop(index=indexes_to_drop)\n",
    "    + 1\n",
    ").cumprod() - 1\n",
    "\n",
    "results = pd.concat(\n",
    "    [result.rename(\"Modelo\"), btc_result.rename(\"BTC\")], axis=1\n",
    ")\n",
    "\n",
    "results = results.fillna(0)\n",
    "results[\"highest_BTC\"] = results[\"BTC\"].cummax()\n",
    "results[\"highest_Modelo\"] = results[\"Modelo\"].cummax()\n",
    "results[\"data\"] = wallet_df.reset_index()[\"blockTimestamp\"]\n",
    "results = results.set_index(\"data\")\n",
    "\n",
    "results[\"asset_ratio\"] = (\n",
    "    wallet_df.set_index(\"blockTimestamp\")\n",
    "    .loc[results.index]\n",
    "    .drop_duplicates()[\"asset_ratio\"]\n",
    ")\n",
    "\n",
    "results[results.columns[:-1]] = results[results.columns[:-1]]"
   ]
  },
  {
   "cell_type": "code",
   "execution_count": 4,
   "metadata": {},
   "outputs": [],
   "source": [
    "wallet_df = wallet_data(wallet_balance, \"WBTC\")\n",
    "wallet_df = results.copy()\n",
    "wallet_df = (wallet_df.diff()).resample(\"M\").sum() * 100\n",
    "wallet_df = wallet_df.iloc[:, :2].round(2)\n",
    "\n",
    "wallet_df.index = wallet_df.index.strftime(\"%Y-%m-%d\")\n",
    "\n",
    "if wallet_df.empty:\n",
    "    response = jsonify({\"error\": \"No data available\"})\n",
    "\n",
    "if update:\n",
    "    database_url = os.getenv(\"DATABASE_URL\")\n",
    "    wallet_df.to_sql(\n",
    "        \"wallet_balance_monthly\",\n",
    "        con=database_url,\n",
    "        if_exists=\"replace\",\n",
    "        index=True,\n",
    "        index_label=\"date\",\n",
    "    )\n"
   ]
  },
  {
   "cell_type": "code",
   "execution_count": 5,
   "metadata": {},
   "outputs": [
    {
     "name": "stderr",
     "output_type": "stream",
     "text": [
      "INFO 19:19:57: Starting requests\n",
      "INFO 19:19:58: Qty: 5 - Total: 100% complete\n",
      "INFO 19:19:58: Qty: 5 - Total: 100.00% complete\n",
      "INFO 19:19:58: Requests elapsed time: 0.4182723000012629\n",
      "\n"
     ]
    },
    {
     "data": {
      "text/plain": [
       "883"
      ]
     },
     "execution_count": 5,
     "metadata": {},
     "output_type": "execute_result"
    }
   ],
   "source": [
    "database_df = pd.read_sql(\"btc\", con=database_url, index_col=\"date\").iloc[:-2]\n",
    "database_df.to_sql(\n",
    "    \"btc\",\n",
    "    con=database_url,\n",
    "    if_exists=\"replace\",\n",
    "    index=True,\n",
    "    index_label=\"date\",\n",
    ")\n",
    "\n",
    "old_database = pd.read_sql(\"btc\", con=database_url, index_col=\"date\")\n",
    "last_time = pd.to_datetime(old_database.index[-2]).timestamp() * 1000\n",
    "\n",
    "ccxt_api = CcxtAPI(\n",
    "    \"BTC/USDT\",\n",
    "    \"1d\",\n",
    "    ccxt.binance(),\n",
    "    since=int(last_time),\n",
    "    verbose=\"Text\",\n",
    ")\n",
    "\n",
    "new_data = ccxt_api.get_all_klines().to_OHLCV().data_frame\n",
    "btc = new_data.combine_first(old_database).drop_duplicates()\n",
    "\n",
    "btc.to_sql(\n",
    "    \"btc\",\n",
    "    con=database_url,\n",
    "    if_exists=\"replace\",\n",
    "    index=True,\n",
    "    index_label=\"date\",\n",
    ")"
   ]
  },
  {
   "cell_type": "code",
   "execution_count": 6,
   "metadata": {},
   "outputs": [
    {
     "data": {
      "text/plain": [
       "245"
      ]
     },
     "execution_count": 6,
     "metadata": {},
     "output_type": "execute_result"
    }
   ],
   "source": [
    "model_pipeline = ModelPipeline(\"btc\", database_url=database_url)\n",
    "recommendations = model_pipeline.get_model_recommendations()\n",
    "\n",
    "recommendations.to_sql(\n",
    "    \"model_recommendations\",\n",
    "    con=database_url,\n",
    "    if_exists=\"replace\",\n",
    "    index=True,\n",
    "    index_label=\"date\",\n",
    ")"
   ]
  }
 ],
 "metadata": {
  "kernelspec": {
   "display_name": "Python 3",
   "language": "python",
   "name": "python3"
  },
  "language_info": {
   "codemirror_mode": {
    "name": "ipython",
    "version": 3
   },
   "file_extension": ".py",
   "mimetype": "text/x-python",
   "name": "python",
   "nbconvert_exporter": "python",
   "pygments_lexer": "ipython3",
   "version": "3.11.9"
  }
 },
 "nbformat": 4,
 "nbformat_minor": 2
}
